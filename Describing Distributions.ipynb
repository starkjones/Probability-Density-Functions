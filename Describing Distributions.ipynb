{
 "cells": [
  {
   "cell_type": "markdown",
   "id": "4ceaf123",
   "metadata": {},
   "source": [
    "# ***Describing Probability Distributions***"
   ]
  },
  {
   "cell_type": "code",
   "execution_count": 6,
   "id": "35d84cd3",
   "metadata": {},
   "outputs": [],
   "source": [
    "# Libraries:\n",
    "\n",
    "import pandas as pd\n",
    "import numpy as np\n",
    "import matplotlib.pyplot as plt\n",
    "import seaborn as sns\n",
    "from sklearn.preprocessing import StandardScaler\n",
    "from scipy import stats"
   ]
  },
  {
   "cell_type": "code",
   "execution_count": 3,
   "id": "e3879bf6",
   "metadata": {},
   "outputs": [
    {
     "data": {
      "text/html": [
       "<div>\n",
       "<style scoped>\n",
       "    .dataframe tbody tr th:only-of-type {\n",
       "        vertical-align: middle;\n",
       "    }\n",
       "\n",
       "    .dataframe tbody tr th {\n",
       "        vertical-align: top;\n",
       "    }\n",
       "\n",
       "    .dataframe thead th {\n",
       "        text-align: right;\n",
       "    }\n",
       "</style>\n",
       "<table border=\"1\" class=\"dataframe\">\n",
       "  <thead>\n",
       "    <tr style=\"text-align: right;\">\n",
       "      <th></th>\n",
       "      <th>State</th>\n",
       "      <th>Lat</th>\n",
       "      <th>Lng</th>\n",
       "      <th>Area</th>\n",
       "      <th>Children</th>\n",
       "      <th>Age</th>\n",
       "      <th>Income</th>\n",
       "      <th>Marital</th>\n",
       "      <th>Gender</th>\n",
       "      <th>ReAdmis</th>\n",
       "      <th>...</th>\n",
       "      <th>Hyperlipidemia</th>\n",
       "      <th>BackPain</th>\n",
       "      <th>Anxiety</th>\n",
       "      <th>Allergic_rhinitis</th>\n",
       "      <th>Reflux_esophagitis</th>\n",
       "      <th>Asthma</th>\n",
       "      <th>Services</th>\n",
       "      <th>Initial_days</th>\n",
       "      <th>TotalCharge</th>\n",
       "      <th>Additional_charges</th>\n",
       "    </tr>\n",
       "  </thead>\n",
       "  <tbody>\n",
       "    <tr>\n",
       "      <th>0</th>\n",
       "      <td>AL</td>\n",
       "      <td>34.34960</td>\n",
       "      <td>-86.72508</td>\n",
       "      <td>Suburban</td>\n",
       "      <td>1.0</td>\n",
       "      <td>53</td>\n",
       "      <td>86575.93</td>\n",
       "      <td>Divorced</td>\n",
       "      <td>Male</td>\n",
       "      <td>0</td>\n",
       "      <td>...</td>\n",
       "      <td>0.0</td>\n",
       "      <td>1.0</td>\n",
       "      <td>1.0</td>\n",
       "      <td>1.0</td>\n",
       "      <td>0</td>\n",
       "      <td>1</td>\n",
       "      <td>Blood Work</td>\n",
       "      <td>10.585770</td>\n",
       "      <td>3726.702860</td>\n",
       "      <td>17939.403420</td>\n",
       "    </tr>\n",
       "    <tr>\n",
       "      <th>1</th>\n",
       "      <td>FL</td>\n",
       "      <td>30.84513</td>\n",
       "      <td>-85.22907</td>\n",
       "      <td>Urban</td>\n",
       "      <td>3.0</td>\n",
       "      <td>51</td>\n",
       "      <td>46805.99</td>\n",
       "      <td>Married</td>\n",
       "      <td>Female</td>\n",
       "      <td>0</td>\n",
       "      <td>...</td>\n",
       "      <td>0.0</td>\n",
       "      <td>0.0</td>\n",
       "      <td>0.0</td>\n",
       "      <td>0.0</td>\n",
       "      <td>1</td>\n",
       "      <td>0</td>\n",
       "      <td>Intravenous</td>\n",
       "      <td>15.129562</td>\n",
       "      <td>4193.190458</td>\n",
       "      <td>17612.998120</td>\n",
       "    </tr>\n",
       "    <tr>\n",
       "      <th>2</th>\n",
       "      <td>SD</td>\n",
       "      <td>43.54321</td>\n",
       "      <td>-96.63772</td>\n",
       "      <td>Suburban</td>\n",
       "      <td>3.0</td>\n",
       "      <td>53</td>\n",
       "      <td>14370.14</td>\n",
       "      <td>Widowed</td>\n",
       "      <td>Female</td>\n",
       "      <td>0</td>\n",
       "      <td>...</td>\n",
       "      <td>0.0</td>\n",
       "      <td>0.0</td>\n",
       "      <td>0.0</td>\n",
       "      <td>0.0</td>\n",
       "      <td>0</td>\n",
       "      <td>0</td>\n",
       "      <td>Blood Work</td>\n",
       "      <td>4.772177</td>\n",
       "      <td>2434.234222</td>\n",
       "      <td>17505.192460</td>\n",
       "    </tr>\n",
       "    <tr>\n",
       "      <th>3</th>\n",
       "      <td>MN</td>\n",
       "      <td>43.89744</td>\n",
       "      <td>-93.51479</td>\n",
       "      <td>Suburban</td>\n",
       "      <td>0.0</td>\n",
       "      <td>78</td>\n",
       "      <td>39741.49</td>\n",
       "      <td>Married</td>\n",
       "      <td>Male</td>\n",
       "      <td>0</td>\n",
       "      <td>...</td>\n",
       "      <td>0.0</td>\n",
       "      <td>0.0</td>\n",
       "      <td>0.0</td>\n",
       "      <td>0.0</td>\n",
       "      <td>1</td>\n",
       "      <td>1</td>\n",
       "      <td>Blood Work</td>\n",
       "      <td>1.714879</td>\n",
       "      <td>2127.830423</td>\n",
       "      <td>12993.437350</td>\n",
       "    </tr>\n",
       "    <tr>\n",
       "      <th>4</th>\n",
       "      <td>VA</td>\n",
       "      <td>37.59894</td>\n",
       "      <td>-76.88958</td>\n",
       "      <td>Rural</td>\n",
       "      <td>1.0</td>\n",
       "      <td>22</td>\n",
       "      <td>1209.56</td>\n",
       "      <td>Widowed</td>\n",
       "      <td>Female</td>\n",
       "      <td>0</td>\n",
       "      <td>...</td>\n",
       "      <td>1.0</td>\n",
       "      <td>0.0</td>\n",
       "      <td>0.0</td>\n",
       "      <td>1.0</td>\n",
       "      <td>0</td>\n",
       "      <td>0</td>\n",
       "      <td>CT Scan</td>\n",
       "      <td>1.254807</td>\n",
       "      <td>2113.073274</td>\n",
       "      <td>3716.525786</td>\n",
       "    </tr>\n",
       "  </tbody>\n",
       "</table>\n",
       "<p>5 rows × 32 columns</p>\n",
       "</div>"
      ],
      "text/plain": [
       "  State       Lat       Lng      Area  Children  Age    Income   Marital  \\\n",
       "0    AL  34.34960 -86.72508  Suburban       1.0   53  86575.93  Divorced   \n",
       "1    FL  30.84513 -85.22907     Urban       3.0   51  46805.99   Married   \n",
       "2    SD  43.54321 -96.63772  Suburban       3.0   53  14370.14   Widowed   \n",
       "3    MN  43.89744 -93.51479  Suburban       0.0   78  39741.49   Married   \n",
       "4    VA  37.59894 -76.88958     Rural       1.0   22   1209.56   Widowed   \n",
       "\n",
       "   Gender  ReAdmis  ...  Hyperlipidemia  BackPain  Anxiety  Allergic_rhinitis  \\\n",
       "0    Male        0  ...             0.0       1.0      1.0                1.0   \n",
       "1  Female        0  ...             0.0       0.0      0.0                0.0   \n",
       "2  Female        0  ...             0.0       0.0      0.0                0.0   \n",
       "3    Male        0  ...             0.0       0.0      0.0                0.0   \n",
       "4  Female        0  ...             1.0       0.0      0.0                1.0   \n",
       "\n",
       "   Reflux_esophagitis Asthma     Services  Initial_days  TotalCharge  \\\n",
       "0                   0      1   Blood Work     10.585770  3726.702860   \n",
       "1                   1      0  Intravenous     15.129562  4193.190458   \n",
       "2                   0      0   Blood Work      4.772177  2434.234222   \n",
       "3                   1      1   Blood Work      1.714879  2127.830423   \n",
       "4                   0      0      CT Scan      1.254807  2113.073274   \n",
       "\n",
       "   Additional_charges  \n",
       "0        17939.403420  \n",
       "1        17612.998120  \n",
       "2        17505.192460  \n",
       "3        12993.437350  \n",
       "4         3716.525786  \n",
       "\n",
       "[5 rows x 32 columns]"
      ]
     },
     "execution_count": 3,
     "metadata": {},
     "output_type": "execute_result"
    }
   ],
   "source": [
    "# Load data:\n",
    "\n",
    "df = pd.read_csv('C:\\\\Users\\jnate\\\\OneDrive\\\\Documents\\\\Data Enrichment\\\\data-enrichment-wk15\\\\Probability-Density-Functions\\\\data.csv')\n",
    "\n",
    "df.head(5)"
   ]
  },
  {
   "cell_type": "markdown",
   "id": "a4b74518",
   "metadata": {},
   "source": [
    "1. Plot a histogram with a kde (kernel density estimate)"
   ]
  },
  {
   "cell_type": "markdown",
   "id": "a6b2ef98",
   "metadata": {},
   "source": [
    "## The features to analyze: \n",
    "1. VitD_levels\n",
    "2. Doc_visits\n",
    "3. TotalCharge"
   ]
  },
  {
   "cell_type": "markdown",
   "id": "9e630951",
   "metadata": {},
   "source": [
    "### For Each Feature:\n",
    "\n",
    "1. Plot a histogram with a kde (kernel density estimate)\n",
    "2. Add a line for the mean (red)\n",
    "3. Add a line for the median (green)\n",
    "4. Add a line for for +1 std from the mean (black)\n",
    "5. Add a line for the - 1 std from the mean (black)\n",
    "6. Highlight the range between +1 and =1 std (yellow)"
   ]
  },
  {
   "cell_type": "code",
   "execution_count": 4,
   "id": "0402748e",
   "metadata": {},
   "outputs": [
    {
     "data": {
      "text/plain": [
       "State                 5\n",
       "Lat                   0\n",
       "Lng                   0\n",
       "Area                  5\n",
       "Children              7\n",
       "Age                   0\n",
       "Income                0\n",
       "Marital               5\n",
       "Gender                5\n",
       "ReAdmis               0\n",
       "VitD_levels           0\n",
       "Doc_visits            0\n",
       "Full_meals_eaten      0\n",
       "vitD_supp             0\n",
       "Soft_drink            0\n",
       "Initial_admin         5\n",
       "HighBlood             0\n",
       "Stroke                0\n",
       "Complication_risk     5\n",
       "Overweight            0\n",
       "Arthritis             6\n",
       "Diabetes              6\n",
       "Hyperlipidemia        2\n",
       "BackPain              8\n",
       "Anxiety               2\n",
       "Allergic_rhinitis     6\n",
       "Reflux_esophagitis    0\n",
       "Asthma                0\n",
       "Services              5\n",
       "Initial_days          0\n",
       "TotalCharge           0\n",
       "Additional_charges    0\n",
       "dtype: int64"
      ]
     },
     "execution_count": 4,
     "metadata": {},
     "output_type": "execute_result"
    }
   ],
   "source": [
    "# Check for missing values:\n",
    "\n",
    "df.isna().sum()"
   ]
  },
  {
   "cell_type": "code",
   "execution_count": 5,
   "id": "36fe394e",
   "metadata": {},
   "outputs": [
    {
     "name": "stdout",
     "output_type": "stream",
     "text": [
      "<class 'pandas.core.frame.DataFrame'>\n",
      "RangeIndex: 1000 entries, 0 to 999\n",
      "Data columns (total 32 columns):\n",
      " #   Column              Non-Null Count  Dtype  \n",
      "---  ------              --------------  -----  \n",
      " 0   State               995 non-null    object \n",
      " 1   Lat                 1000 non-null   float64\n",
      " 2   Lng                 1000 non-null   float64\n",
      " 3   Area                995 non-null    object \n",
      " 4   Children            993 non-null    float64\n",
      " 5   Age                 1000 non-null   int64  \n",
      " 6   Income              1000 non-null   float64\n",
      " 7   Marital             995 non-null    object \n",
      " 8   Gender              995 non-null    object \n",
      " 9   ReAdmis             1000 non-null   int64  \n",
      " 10  VitD_levels         1000 non-null   float64\n",
      " 11  Doc_visits          1000 non-null   int64  \n",
      " 12  Full_meals_eaten    1000 non-null   int64  \n",
      " 13  vitD_supp           1000 non-null   int64  \n",
      " 14  Soft_drink          1000 non-null   int64  \n",
      " 15  Initial_admin       995 non-null    object \n",
      " 16  HighBlood           1000 non-null   int64  \n",
      " 17  Stroke              1000 non-null   int64  \n",
      " 18  Complication_risk   995 non-null    object \n",
      " 19  Overweight          1000 non-null   int64  \n",
      " 20  Arthritis           994 non-null    float64\n",
      " 21  Diabetes            994 non-null    float64\n",
      " 22  Hyperlipidemia      998 non-null    float64\n",
      " 23  BackPain            992 non-null    float64\n",
      " 24  Anxiety             998 non-null    float64\n",
      " 25  Allergic_rhinitis   994 non-null    float64\n",
      " 26  Reflux_esophagitis  1000 non-null   int64  \n",
      " 27  Asthma              1000 non-null   int64  \n",
      " 28  Services            995 non-null    object \n",
      " 29  Initial_days        1000 non-null   float64\n",
      " 30  TotalCharge         1000 non-null   float64\n",
      " 31  Additional_charges  1000 non-null   float64\n",
      "dtypes: float64(14), int64(11), object(7)\n",
      "memory usage: 250.1+ KB\n"
     ]
    }
   ],
   "source": [
    "# Check column data types:\n",
    "\n",
    "df.info()"
   ]
  },
  {
   "cell_type": "code",
   "execution_count": 8,
   "id": "c317ad65",
   "metadata": {},
   "outputs": [],
   "source": [
    "# Features to Analyze\n",
    "\n",
    "vl = df['VitD_levels']\n",
    "\n",
    "dc = df['Doc_visits']\n",
    "\n",
    "tc = df['TotalCharge']"
   ]
  },
  {
   "cell_type": "markdown",
   "id": "6a198a02",
   "metadata": {},
   "source": [
    "## ***Vit Levels***"
   ]
  },
  {
   "cell_type": "code",
   "execution_count": 35,
   "id": "28733423",
   "metadata": {},
   "outputs": [
    {
     "data": {
      "image/png": "[encoded data removed]",
      "text/plain": [
       "<Figure size 720x720 with 1 Axes>"
      ]
     },
     "metadata": {
      "needs_background": "light"
     },
     "output_type": "display_data"
    }
   ],
   "source": [
    "# Variable list:\n",
    "\n",
    "vlmean = vl.mean()\n",
    "vlmed = vl.median()\n",
    "std = vl.std()\n",
    "vlplus = vlmean + std\n",
    "vlminus = vlmean - std\n",
    "\n",
    "# 1. Plot a histogram of probabilities for the first feature:\n",
    "fig, axes = plt.subplots(nrows=1, ncols =1, figsize=(10,10));\n",
    "ax = sns.histplot(x=vl,stat='probability',kde=True)\n",
    "\n",
    "# 2. Add a line for the mean (red)\n",
    "ax.axvline(vlmean, color='red', label =f'Mean = {vlmean:,.2f}')\n",
    "\n",
    "# 3. Add a line for the median (green)\n",
    "ax.axvline(vlmed, color='green', label =f'Median = {vlmed:,.2f}')\n",
    "\n",
    "# 4. Add a line for for +1 std from the mean (black)\n",
    "ax.axvline(vlplus, color='k', label =f'+1 std = {vlplus:,.2f}')\n",
    "\n",
    "# 5. Add a line for the - 1 std from the mean (black)\n",
    "ax.axvline(vlminus, color='k', label =f'-1 std = {vlminus:,.2f}')\n",
    "\n",
    "# 6. Highlight the range between +1 and =1 std (yellow)\n",
    "ax.axvspan(vlplus, vlminus, color = 'yellow', alpha = .4)\n",
    "\n",
    "ax.set_title(\"VitD Levels\", fontsize =16);\n",
    "ax.legend();"
   ]
  },
  {
   "cell_type": "code",
   "execution_count": 33,
   "id": "5977cab9",
   "metadata": {},
   "outputs": [
    {
     "data": {
      "text/plain": [
       "3.013147515833447"
      ]
     },
     "execution_count": 33,
     "metadata": {},
     "output_type": "execute_result"
    }
   ],
   "source": [
    "from scipy import stats\n",
    "\n",
    "# Kurtosis Value:\n",
    "\n",
    "vlkurt = stats.kurtosis(vl, fisher = False)\n",
    "\n",
    "vlkurt"
   ]
  },
  {
   "cell_type": "markdown",
   "id": "e560cd7b",
   "metadata": {},
   "source": [
    "### Answer the following questions:\n",
    "\n",
    "1. Is it Discrete or Continuous?\n",
    "    \n",
    "    ***A: This distribution is continuous.***\n",
    "    \n",
    "    \n",
    "2. Does it have a skew? If so, which direction (+/-)\n",
    "What type of kurtosis does it display? (Mesokurtic, Leptokurtic, Platykurtic)\n",
    "    \n",
    "    ***A: There is a subtle negative skew: mean < median < mode. This distribution is Mesokurti; the majority of values are clustered in the middle of the distribution.*** "
   ]
  },
  {
   "cell_type": "markdown",
   "id": "81580478",
   "metadata": {},
   "source": [
    "## ***Doctor Visits***"
   ]
  },
  {
   "cell_type": "code",
   "execution_count": 36,
   "id": "f2b50d2d",
   "metadata": {},
   "outputs": [
    {
     "data": {
      "image/png": "[encoded data removed]",
      "text/plain": [
       "<Figure size 720x720 with 1 Axes>"
      ]
     },
     "metadata": {
      "needs_background": "light"
     },
     "output_type": "display_data"
    }
   ],
   "source": [
    "# Variable list:\n",
    "\n",
    "dcmean = dc.mean()\n",
    "dcmed = dc.median()\n",
    "dcstd = dc.std()\n",
    "dcplus = dcmean + dcstd\n",
    "dcminus = dcmean - dcstd\n",
    "\n",
    "# 1. Plot a histogram of probabilities for the second feature:\n",
    "fig, axes = plt.subplots(nrows=1, ncols =1, figsize=(10,10));\n",
    "ax = sns.histplot(x=dc,stat='probability',kde=True, color = '#807dba')\n",
    "\n",
    "# 2. Add a line for the mean (red)\n",
    "ax.axvline(dcmean, color='red', label =f'Mean = {dcmean:,.2f}')\n",
    "\n",
    "# 3. Add a line for the median (green)\n",
    "ax.axvline(dcmed, color='green', label =f'Median = {dcmed:,.2f}')\n",
    "\n",
    "# 4. Add a line for for +1 std from the mean (black)\n",
    "ax.axvline(dcplus, color='k', label =f'+1 std = {dcplus:,.2f}')\n",
    "\n",
    "# 5. Add a line for the - 1 std from the mean (black)\n",
    "ax.axvline(dcminus, color='k', label =f'-1 std = {dcminus:,.2f}')\n",
    "\n",
    "# 6. Highlight the range between +1 and =1 std (yellow)\n",
    "ax.axvspan(dcplus, dcminus, color = 'yellow', alpha = .3)\n",
    "\n",
    "ax.set_title(\"Doctor Visits\\n\", fontsize =16);\n",
    "ax.legend();"
   ]
  },
  {
   "cell_type": "code",
   "execution_count": 37,
   "id": "6f2538ab",
   "metadata": {},
   "outputs": [
    {
     "data": {
      "text/plain": [
       "2.9919958083381206"
      ]
     },
     "execution_count": 37,
     "metadata": {},
     "output_type": "execute_result"
    }
   ],
   "source": [
    "# Kurtosis Value:\n",
    "\n",
    "dckurt = stats.kurtosis(dc, fisher = False)\n",
    "\n",
    "dckurt"
   ]
  },
  {
   "cell_type": "markdown",
   "id": "8cef612c",
   "metadata": {},
   "source": [
    "### Answer the following questions:\n",
    "\n",
    "1. Is it Discrete or Continuous?\n",
    "    \n",
    "    ***A: This distribution is discrete.***\n",
    "    \n",
    "    \n",
    "2. Does it have a skew? If so, which direction (+/-)\n",
    "What type of kurtosis does it display? (Mesokurtic, Leptokurtic, Platykurtic)\n",
    "    \n",
    "    ***A: There is little to no skew, the mean, median and mode are equal. This distribution could be considered Mesokurtic or Platykurtic since the kurtosis vlaue is just below 3.*** "
   ]
  },
  {
   "cell_type": "markdown",
   "id": "a69a4b63",
   "metadata": {},
   "source": [
    "## ***Total Charge***"
   ]
  },
  {
   "cell_type": "code",
   "execution_count": 39,
   "id": "09dbcc1a",
   "metadata": {},
   "outputs": [
    {
     "data": {
      "image/png": "[encoded data removed]",
      "text/plain": [
       "<Figure size 720x720 with 1 Axes>"
      ]
     },
     "metadata": {
      "needs_background": "light"
     },
     "output_type": "display_data"
    }
   ],
   "source": [
    "# Variable list:\n",
    "\n",
    "tcmean = tc.mean()\n",
    "tcmed = tc.median()\n",
    "tcstd = tc.std()\n",
    "tcplus = tcmean + tcstd\n",
    "tcminus = tcmean - tcstd\n",
    "\n",
    "# 1. Plot a histogram of probabilities for the second feature:\n",
    "fig, axes = plt.subplots(nrows=1, ncols =1, figsize=(10,10));\n",
    "ax = sns.histplot(x=tc,stat='probability',kde=True, color = '#ae017e')\n",
    "\n",
    "# 2. Add a line for the mean (red)\n",
    "ax.axvline(tcmean, color='red', label =f'Mean = {tcmean:,.2f}')\n",
    "\n",
    "# 3. Add a line for the median (green)\n",
    "ax.axvline(tcmed, color='green', label =f'Median = {tcmed:,.2f}')\n",
    "\n",
    "# 4. Add a line for for +1 std from the mean (black)\n",
    "ax.axvline(tcplus, color='k', label =f'+1 std = {tcplus:,.2f}')\n",
    "\n",
    "# 5. Add a line for the - 1 std from the mean (black)\n",
    "ax.axvline(tcminus, color='k', label =f'-1 std = {tcminus:,.2f}')\n",
    "\n",
    "# 6. Highlight the range between +1 and =1 std (yellow)\n",
    "ax.axvspan(tcplus, tcminus, color = 'yellow', alpha = .2)\n",
    "\n",
    "ax.set_title(\"Total Charge\\n\", fontsize =16);\n",
    "ax.legend();"
   ]
  },
  {
   "cell_type": "code",
   "execution_count": 38,
   "id": "2ade450e",
   "metadata": {},
   "outputs": [
    {
     "data": {
      "text/plain": [
       "3.2650077463439384"
      ]
     },
     "execution_count": 38,
     "metadata": {},
     "output_type": "execute_result"
    }
   ],
   "source": [
    "# Kurtosis Value:\n",
    "\n",
    "tckurt = stats.kurtosis(tc, fisher = False)\n",
    "\n",
    "tckurt"
   ]
  },
  {
   "cell_type": "markdown",
   "id": "cd0f51c7",
   "metadata": {},
   "source": [
    "### Answer the following questions:\n",
    "\n",
    "1. Is it Discrete or Continuous?\n",
    "    \n",
    "    ***A: This distribution is continuous.***\n",
    "    \n",
    "    \n",
    "2. Does it have a skew? If so, which direction (+/-)\n",
    "What type of kurtosis does it display? (Mesokurtic, Leptokurtic, Platykurtic)\n",
    "    \n",
    "    ***A: There is positive skew, the mode is larger than the median and mean. The mean is slightly larger than the median. This distribution is Leptokurtic - values are clustered in the peak of the distribution.*** "
   ]
  }
 ],
 "metadata": {
  "kernelspec": {
   "display_name": "Python (dojo-env)",
   "language": "python",
   "name": "dojo-env"
  },
  "language_info": {
   "codemirror_mode": {
    "name": "ipython",
    "version": 3
   },
   "file_extension": ".py",
   "mimetype": "text/x-python",
   "name": "python",
   "nbconvert_exporter": "python",
   "pygments_lexer": "ipython3",
   "version": "3.7.12"
  },
  "toc": {
   "base_numbering": 1,
   "nav_menu": {},
   "number_sections": true,
   "sideBar": true,
   "skip_h1_title": false,
   "title_cell": "Table of Contents",
   "title_sidebar": "Contents",
   "toc_cell": false,
   "toc_position": {},
   "toc_section_display": true,
   "toc_window_display": false
  }
 },
 "nbformat": 4,
 "nbformat_minor": 5
}
